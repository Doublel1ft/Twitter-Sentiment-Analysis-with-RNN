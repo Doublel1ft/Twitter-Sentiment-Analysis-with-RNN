
  {
   "cell_type": "markdown",
   "metadata": {},
   "source": [
    "## Twitter Sentiment Analysis\n",
    "\n",
    "\n",
    "* Data Source: https://www.kaggle.com/kazanova/sentiment140\n",
    "\n",
    "This is the sentiment140 dataset. It contains 1,600,000 tweets extracted using the twitter api . The tweets have been annotated (0 = negative, 4 = positive) and they can be used to detect sentiment.\n",
    "\n",
    "Content\n",
    "\n",
    "* It contains the following 6 fields:\n",
    "\n",
    "* target: the polarity of the tweet (0 = negative, 2 = neutral, 4 = positive)\n",
    "* ids: The id of the tweet ( 2087)\n",
    "* date: the date of the tweet (Sat May 16 23:58:44 UTC 2009)\n",
    "* flag: The query (lyx). If there is no query, then this value is NO_QUERY.\n",
    "* user: the user that tweeted (robotickilldozr)\n",
    "* text: the text of the tweet (Lyx is cool)\n",
    "\n",
    "\n",
    "#### Imports\n",
    "\n",
    "* The main python packages that are used are: \n",
    "    * `NLTK` and regular expresions for input text manipulations\n",
    "    * Classifiers and metrics for evaluation from `Sklearn`\n",
    "    * `Pandas` and `Matplotlib` to depict results\n",
    "    * `Keras` as a neural-network library"
   ]
  },
  {
   "cell_type": "code",
   "execution_count": 2,
   "metadata": {},
   "outputs": [
    {
     "name": "stdout",
     "output_type": "stream",
     "text": [
      "[nltk_data] Downloading package stopwords to\n",
      "[nltk_data]     C:\\Users\\admin\\AppData\\Roaming\\nltk_data...\n",
      "[nltk_data]   Package stopwords is already up-to-date!\n",
      "[nltk_data] Downloading package wordnet to\n",
      "[nltk_data]     C:\\Users\\admin\\AppData\\Roaming\\nltk_data...\n",
      "[nltk_data]   Package wordnet is already up-to-date!\n"
     ]
    }
   ],
   "source": [
    "import numpy as np\n",
    "import pandas as pd\n",
    "from collections import Counter\n",
    "\n",
    "import nltk\n",
    "nltk.download('stopwords')\n",
    "nltk.download('wordnet')\n",
    "from nltk.corpus import stopwords\n",
    "\n",
    "import re\n",
    "from nltk.stem import WordNetLemmatizer\n",
    "stemmer = WordNetLemmatizer()\n",
    "\n",
    "%matplotlib inline\n",
    "import matplotlib.pyplot as plt"
   ]
  },
  {
   "cell_type": "code",
   "execution_count": 3,
   "metadata": {},
   "outputs": [],
   "source": [
    "# Load data\n",
    "file = \"training.1600000.processed.noemoticon.csv\"\n",
    "cols = ['target','id','date','flag','user','text']\n",
    "df = pd.read_csv(file, encoding=\"ISO-8859-1\", header=None, names=cols)\n",
    "\n",
    "# 0 for positive / 1 for negative\n",
    "df['target'] = (df['target']==4).astype(int)\n",
    "\n",
    "y = np.array(df.target)\n",
    "X = np.array(df.text)\n",
    "\n",
    "#Shuffle data\n",
    "indices = np.arange(len(X))\n",
    "np.random.shuffle(indices)\n",
    "X = X[indices]\n",
    "y = y[indices]\n",
    "\n",
    "#Keep 10%\n",
    "X = X[:160000]\n",
    "y = y[:160000]"
   ]
  },
  {
   "cell_type": "code",
   "execution_count": 4,
   "metadata": {},
   "outputs": [
    {
     "data": {
      "image/png": "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\n",
      "text/plain": [
       "<Figure size 432x288 with 1 Axes>"
      ]
     },
     "metadata": {},
     "output_type": "display_data"
    }
   ],
   "source": [
    "# Count the number of entities in each category\n",
    "target_cnt = Counter(df.target)\n",
    "plt.figure(figsize=(6,4))\n",
    "plt.bar(target_cnt.keys(), target_cnt.values(), tick_label=('Negative','Positive'), color=['r','g'])\n",
    "plt.title(\"Dataset labels distribuition\")\n",
    "plt.show()"
   ]
  },
  {
   "cell_type": "markdown",
   "metadata": {},
   "source": [
    "* From the above plot it can be seen that the dataset is balanced. We have 800,000 positive and and negative tweets.\n",
    "\n",
    "Each tweet has the following format:"
   ]
  },
  {
   "cell_type": "code",
   "execution_count": 9,
   "metadata": {},
   "outputs": [
    {
     "data": {
      "text/plain": [
       "\"@dolcelaalaa they said she's sick right now  so we gotta wait\""
      ]
     },
     "execution_count": 9,
     "metadata": {},
     "output_type": "execute_result"
    }
   ],
   "source": [
    "X[30]"
   ]
  },
  {
   "cell_type": "markdown",
   "metadata": {},
   "source": [
    "#### Preprocessing\n",
    "\n",
    "* We will remove from each tweet special characters, single characters, multiple spaces and prefixed letters and prefix such as '@nickname'.\n",
    "* Everything will be converted to Lowercase.\n",
    "* Using the WordNet Lemmatizer we will keep the stem of each word (only for words in the WordNet)."
   ]
  },
  {
   "cell_type": "code",
   "execution_count": 6,
   "metadata": {},
   "outputs": [],
   "source": [
    "tweets = []\n",
    "for i in range(len(X)):\n",
    "    \n",
    "    tweet = re.sub(r\"@\\S+|https?:\\S+|http?:\\S|[^A-Za-z0-9]+\", ' ', str(X[i]))\n",
    "    \n",
    "    # remove all single characters\n",
    "    tweet = re.sub(r'\\s+[a-zA-Z]\\s+', ' ', tweet)\n",
    "\n",
    "    # Substituting multiple spaces with single space\n",
    "    tweet = re.sub(r'\\s+', ' ', tweet, flags=re.I)\n",
    "    \n",
    "    # Converting to Lowercase\n",
    "    tweet = tweet.lower()\n",
    "\n",
    "    # Lemmatization\n",
    "    tweet = tweet.split()\n",
    "\n",
    "    tweet = [stemmer.lemmatize(word) for word in tweet]\n",
    "    tweet = ' '.join(tweet)\n",
    "    tweets.append(tweet)"
   ]
  },
  {
   "cell_type": "markdown",
   "metadata": {},
   "source": [
    "After preprocessing the above tweet is transformed into:"
   ]
  },
  {
   "cell_type": "code",
   "execution_count": 11,
   "metadata": {},
   "outputs": [
    {
     "data": {
      "text/plain": [
       "'they said she sick right now so we gotta wait'"
      ]
     },
     "execution_count": 11,
     "metadata": {},
     "output_type": "execute_result"
    }
   ],
   "source": [
    "tweets[30]"
   ]
  },
  {
   "cell_type": "markdown",
   "metadata": {},
   "source": [
    "#### Split dataset into train (70%) & development (10%) & test (20%)\n",
    "\n",
    "* Due to the large number of available data (1,600,000) we will do our analysis in a random 10% sample, in order to speed up computations. (Use of all the data did not impove the accuracy of the classifier)"
   ]
  },
  {
   "cell_type": "code",
   "execution_count": 12,
   "metadata": {},
   "outputs": [],
   "source": [
    "X_train, X_dev, X_test = tweets[:112000], tweets[112000:128000], tweets[128000:160000]\n",
    "y_train, y_dev, y_test = y[:112000], y[112000:128000], y[128000:160000]"
   ]
  },
  {
   "cell_type": "markdown",
   "metadata": {},
   "source": [
    "#### Download & unzip fasttext word embeddings"
   ]
  },
  {
   "cell_type": "code",
   "execution_count": null,
   "metadata": {},
   "outputs": [],
   "source": [
    "!wget https://dl.fbaipublicfiles.com/fasttext/vectors-crawl/cc.en.300.vec.gz\n",
    "!gzip -d cc.en.300.vec.gz"
   ]
  },
  {
   "cell_type": "markdown",
   "metadata": {},
   "source": [
    "#### Load fasttext embeddings\n",
    "\n",
    "To load fasttext pre-trained embeddings more efficiently, we can read only once the embeddings file and save:\n",
    "* A 2D np-array for the embedding vectors\n",
    "* A dictionary that maps each word to the row index of its embedding on the 2D np-array"
   ]
  },
  {
   "cell_type": "code",
   "execution_count": 13,
   "metadata": {},
   "outputs": [],
   "source": [
    "import pickle\n",
    "\n",
    "idx = 0\n",
    "vocab = {}\n",
    "with open(\"cc.en.300.vec\", 'r', encoding=\"utf-8\", newline='\\n', errors='ignore') as f:\n",
    "    for l in f:\n",
    "        line = l.rstrip().split(' ')\n",
    "        if idx == 0:\n",
    "            vocab_size = int(line[0]) + 2\n",
    "            dim = int(line[1])\n",
    "            vecs = np.zeros(vocab_size*dim).reshape(vocab_size,dim)\n",
    "            vocab[\"__PADDING__\"] = 0\n",
    "            vocab[\"__UNK__\"] = 1\n",
    "            idx = 2\n",
    "        else:\n",
    "            vocab[line[0]] = idx\n",
    "            emb = np.array(line[1:]).astype(np.float)\n",
    "            if (emb.shape[0] == dim):\n",
    "                vecs[idx,:] = emb\n",
    "                idx+=1\n",
    "            else:\n",
    "                continue\n",
    "\n",
    "    pickle.dump(vocab,open(\"fasttext_voc\",'wb'))\n",
    "    np.save(\"fasttext.npy\",vecs)"
   ]
  },
  {
   "cell_type": "markdown",
   "metadata": {},
   "source": [
    "#### Define evaluation metrics"
   ]
  },
  {
   "cell_type": "code",
   "execution_count": 14,
   "metadata": {},
   "outputs": [],
   "source": [
    "def recall(y_true, y_pred):\n",
    "    \"\"\"\n",
    "    Recall metric.\n",
    "    Only computes a batch-wise average of recall.\n",
    "    Computes the recall, a metric for multi-label classification of\n",
    "    how many relevant items are selected.\n",
    "    \"\"\"\n",
    "    true_positives = K.sum(K.round(K.clip(y_true * y_pred, 0, 1)))\n",
    "    possible_positives = K.sum(K.round(K.clip(y_true, 0, 1)))\n",
    "    recall = true_positives / (possible_positives + K.epsilon())\n",
    "    return recall\n",
    "\n",
    "def precision(y_true, y_pred):\n",
    "    \"\"\"\n",
    "    Precision metric.\n",
    "    Only computes a batch-wise average of precision.\n",
    "    Computes the precision, a metric for multi-label classification of\n",
    "    how many selected items are relevant.\n",
    "    Source\n",
    "    ------\n",
    "    https://github.com/fchollet/keras/issues/5400#issuecomment-314747992\n",
    "    \"\"\"\n",
    "    true_positives = K.sum(K.round(K.clip(y_true * y_pred, 0, 1)))\n",
    "    predicted_positives = K.sum(K.round(K.clip(y_pred, 0, 1)))\n",
    "    precision = true_positives / (predicted_positives + K.epsilon())\n",
    "    return precision\n",
    "\n",
    "def f1(y_true, y_pred):\n",
    "    \"\"\"Calculate the F1 score.\"\"\"\n",
    "    p = precision(y_true, y_pred)\n",
    "    r = recall(y_true, y_pred)\n",
    "    return 2 * ((p * r) / (p + r))\n",
    "\n",
    "def accuracy(y_true, y_pred):\n",
    "    return K.mean(K.equal(y_true, K.round(y_pred)), axis=1)"
   ]
  },
  {
   "cell_type": "markdown",
   "metadata": {},
   "source": [
    "#### Load embeddings np-array and mapping dictionary"
   ]
  },
  {
   "cell_type": "code",
   "execution_count": 15,
   "metadata": {},
   "outputs": [],
   "source": [
    "fasttext_embed = np.load(\"fasttext.npy\")\n",
    "fasttext_word_to_index = pickle.load(open(\"fasttext_voc\", 'rb'))"
   ]
  },
  {
   "cell_type": "code",
   "execution_count": 16,
   "metadata": {},
   "outputs": [
    {
     "name": "stderr",
     "output_type": "stream",
     "text": [
      "Using TensorFlow backend.\n"
     ]
    }
   ],
   "source": [
    "from keras.preprocessing.text import Tokenizer\n",
    "from keras.preprocessing.sequence import pad_sequences\n",
    "\n",
    "MAX_WORDS = 20000\n",
    "MAX_SEQUENCE_LENGTH = 200\n",
    "EMBEDDING_DIM = fasttext_embed.shape[1]\n",
    "tokenizer = Tokenizer(num_words=MAX_WORDS,oov_token='__UNK__')\n",
    "tokenizer.fit_on_texts(X_train)\n",
    "train_seqs = tokenizer.texts_to_sequences(X_train)\n",
    "dev_seqs = tokenizer.texts_to_sequences(X_dev)\n",
    "train_data = pad_sequences(train_seqs, maxlen=MAX_SEQUENCE_LENGTH,padding='post')\n",
    "dev_data = pad_sequences(dev_seqs, maxlen=MAX_SEQUENCE_LENGTH, padding='post')\n",
    "test_seqs = tokenizer.texts_to_sequences(X_test)\n",
    "test_data = pad_sequences(test_seqs, maxlen=MAX_SEQUENCE_LENGTH,padding='post')"
   ]
  },
  {
   "cell_type": "code",
   "execution_count": 17,
   "metadata": {},
   "outputs": [
    {
     "name": "stdout",
     "output_type": "stream",
     "text": [
      "Found 58154 unique tokens.\n"
     ]
    }
   ],
   "source": [
    "word_index = tokenizer.word_index\n",
    "print('Found %s unique tokens.' % len(word_index))"
   ]
  },
  {
   "cell_type": "markdown",
   "metadata": {},
   "source": [
    "#### Initialize embedding matrix with fasttext pre-trained embedings"
   ]
  },
  {
   "cell_type": "code",
   "execution_count": 18,
   "metadata": {},
   "outputs": [],
   "source": [
    "embedding_matrix = np.zeros((MAX_WORDS+2, EMBEDDING_DIM))\n",
    "for word, i in word_index.items():\n",
    "    if i > MAX_WORDS:\n",
    "            continue\n",
    "    try:\n",
    "        embedding_vector = fasttext_embed[fasttext_word_to_index[word],:]\n",
    "        embedding_matrix[i] = embedding_vector\n",
    "    except:\n",
    "        pass"
   ]
  },
  {
   "cell_type": "markdown",
   "metadata": {},
   "source": [
    "## Create and train a BiGRU + MLP model"
   ]
  },
  {
   "cell_type": "code",
   "execution_count": null,
   "metadata": {},
   "outputs": [],
   "source": [
    "# to run tensorflow on mac\n",
    "import os\n",
    "os.environ['KMP_DUPLICATE_LIB_OK']='True'"
   ]
  },
  {
   "cell_type": "code",
   "execution_count": 19,
   "metadata": {
    "scrolled": true
   },
   "outputs": [
    {
     "name": "stderr",
     "output_type": "stream",
     "text": [
      "WARNING: Logging before flag parsing goes to stderr.\n",
      "W0716 20:18:52.049474 17536 deprecation_wrapper.py:119] From C:\\Program Files (x86)\\Microsoft Visual Studio\\Shared\\Anaconda3_64\\lib\\site-packages\\keras\\backend\\tensorflow_backend.py:74: The name tf.get_default_graph is deprecated. Please use tf.compat.v1.get_default_graph instead.\n",
      "\n",
      "W0716 20:18:52.090144 17536 deprecation_wrapper.py:119] From C:\\Program Files (x86)\\Microsoft Visual Studio\\Shared\\Anaconda3_64\\lib\\site-packages\\keras\\backend\\tensorflow_backend.py:517: The name tf.placeholder is deprecated. Please use tf.compat.v1.placeholder instead.\n",
      "\n",
      "W0716 20:18:52.102591 17536 deprecation_wrapper.py:119] From C:\\Program Files (x86)\\Microsoft Visual Studio\\Shared\\Anaconda3_64\\lib\\site-packages\\keras\\backend\\tensorflow_backend.py:4138: The name tf.random_uniform is deprecated. Please use tf.random.uniform instead.\n",
      "\n",
      "W0716 20:18:52.123921 17536 deprecation_wrapper.py:119] From C:\\Program Files (x86)\\Microsoft Visual Studio\\Shared\\Anaconda3_64\\lib\\site-packages\\keras\\backend\\tensorflow_backend.py:174: The name tf.get_default_session is deprecated. Please use tf.compat.v1.get_default_session instead.\n",
      "\n",
      "W0716 20:18:52.125905 17536 deprecation_wrapper.py:119] From C:\\Program Files (x86)\\Microsoft Visual Studio\\Shared\\Anaconda3_64\\lib\\site-packages\\keras\\backend\\tensorflow_backend.py:181: The name tf.ConfigProto is deprecated. Please use tf.compat.v1.ConfigProto instead.\n",
      "\n",
      "W0716 20:18:55.074416 17536 deprecation.py:506] From C:\\Program Files (x86)\\Microsoft Visual Studio\\Shared\\Anaconda3_64\\lib\\site-packages\\keras\\backend\\tensorflow_backend.py:3445: calling dropout (from tensorflow.python.ops.nn_ops) with keep_prob is deprecated and will be removed in a future version.\n",
      "Instructions for updating:\n",
      "Please use `rate` instead of `keep_prob`. Rate should be set to `rate = 1 - keep_prob`.\n",
      "W0716 20:18:55.294150 17536 deprecation.py:323] From C:\\Program Files (x86)\\Microsoft Visual Studio\\Shared\\Anaconda3_64\\lib\\site-packages\\keras\\backend\\tensorflow_backend.py:2974: add_dispatch_support.<locals>.wrapper (from tensorflow.python.ops.array_ops) is deprecated and will be removed in a future version.\n",
      "Instructions for updating:\n",
      "Use tf.where in 2.0, which has the same broadcast rule as np.where\n"
     ]
    },
    {
     "name": "stdout",
     "output_type": "stream",
     "text": [
      "_________________________________________________________________\n",
      "Layer (type)                 Output Shape              Param #   \n",
      "=================================================================\n",
      "embedding_1 (Embedding)      (None, 200, 300)          6000600   \n",
      "_________________________________________________________________\n",
      "dropout_1 (Dropout)          (None, 200, 300)          0         \n",
      "_________________________________________________________________\n",
      "bidirectional_1 (Bidirection (None, 200)               240600    \n",
      "_________________________________________________________________\n",
      "dropout_2 (Dropout)          (None, 200)               0         \n",
      "_________________________________________________________________\n",
      "dense_1 (Dense)              (None, 200)               40200     \n",
      "_________________________________________________________________\n",
      "dense_2 (Dense)              (None, 1)                 201       \n",
      "=================================================================\n",
      "Total params: 6,281,601\n",
      "Trainable params: 281,001\n",
      "Non-trainable params: 6,000,600\n",
      "_________________________________________________________________\n",
      "None\n"
     ]
    },
    {
     "name": "stderr",
     "output_type": "stream",
     "text": [
      "W0716 20:18:55.483104 17536 deprecation_wrapper.py:119] From C:\\Program Files (x86)\\Microsoft Visual Studio\\Shared\\Anaconda3_64\\lib\\site-packages\\keras\\optimizers.py:790: The name tf.train.Optimizer is deprecated. Please use tf.compat.v1.train.Optimizer instead.\n",
      "\n"
     ]
    },
    {
     "data": {
      "application/vnd.jupyter.widget-view+json": {
       "model_id": "1e9ac76ca89f4663bdd9ceb96bbee088",
       "version_major": 2,
       "version_minor": 0
      },
      "text/plain": [
       "HBox(children=(IntProgress(value=0, description='Training', max=4, style=ProgressStyle(description_width='init…"
      ]
     },
     "metadata": {},
     "output_type": "display_data"
    },
    {
     "data": {
      "application/vnd.jupyter.widget-view+json": {
       "model_id": "",
       "version_major": 2,
       "version_minor": 0
      },
      "text/plain": [
       "HBox(children=(IntProgress(value=0, description='Epoch 0', max=112000, style=ProgressStyle(description_width='…"
      ]
     },
     "metadata": {},
     "output_type": "display_data"
    },
    {
     "name": "stdout",
     "output_type": "stream",
     "text": [
      "\n",
      "Epoch 00001: val_f1 improved from -inf to 0.77592, saving model to keras_BiGRU_model\n"
     ]
    },
    {
     "data": {
      "application/vnd.jupyter.widget-view+json": {
       "model_id": "",
       "version_major": 2,
       "version_minor": 0
      },
      "text/plain": [
       "HBox(children=(IntProgress(value=0, description='Epoch 1', max=112000, style=ProgressStyle(description_width='…"
      ]
     },
     "metadata": {},
     "output_type": "display_data"
    },
    {
     "name": "stdout",
     "output_type": "stream",
     "text": [
      "\n",
      "Epoch 00002: val_f1 improved from 0.77592 to 0.79421, saving model to keras_BiGRU_model\n"
     ]
    },
    {
     "data": {
      "application/vnd.jupyter.widget-view+json": {
       "model_id": "",
       "version_major": 2,
       "version_minor": 0
      },
      "text/plain": [
       "HBox(children=(IntProgress(value=0, description='Epoch 2', max=112000, style=ProgressStyle(description_width='…"
      ]
     },
     "metadata": {},
     "output_type": "display_data"
    },
    {
     "name": "stdout",
     "output_type": "stream",
     "text": [
      "\n",
      "Epoch 00003: val_f1 improved from 0.79421 to 0.80030, saving model to keras_BiGRU_model\n"
     ]
    },
    {
     "data": {
      "application/vnd.jupyter.widget-view+json": {
       "model_id": "",
       "version_major": 2,
       "version_minor": 0
      },
      "text/plain": [
       "HBox(children=(IntProgress(value=0, description='Epoch 3', max=112000, style=ProgressStyle(description_width='…"
      ]
     },
     "metadata": {},
     "output_type": "display_data"
    },
    {
     "name": "stdout",
     "output_type": "stream",
     "text": [
      "\n",
      "Epoch 00004: val_f1 did not improve from 0.80030\n",
      "\n"
     ]
    }
   ],
   "source": [
    "import warnings\n",
    "import sklearn.exceptions\n",
    "warnings.filterwarnings(\"ignore\", category=sklearn.exceptions.UndefinedMetricWarning)\n",
    "warnings.simplefilter(action='ignore', category=FutureWarning)\n",
    "from keras.callbacks import ModelCheckpoint\n",
    "from keras.layers.embeddings import Embedding\n",
    "from keras_tqdm import TQDMNotebookCallback\n",
    "from keras.models import Sequential\n",
    "from keras.layers import Dense, Dropout, Bidirectional\n",
    "from keras.layers.recurrent import GRU\n",
    "from keras.optimizers import Adam\n",
    "from keras import backend as K\n",
    "\n",
    "GRU_SIZE = 100\n",
    "DENSE = 200\n",
    "\n",
    "# create empty sequential model\n",
    "model = Sequential()\n",
    "# add an embedding layer\n",
    "model.add(Embedding(MAX_WORDS+2, EMBEDDING_DIM, weights=[embedding_matrix], \n",
    "                    input_length=MAX_SEQUENCE_LENGTH, mask_zero=True, trainable=False))\n",
    "# Use 0.2 dropout probabillity\n",
    "model.add(Dropout(0.2))\n",
    "# add a bidirectional gru layer with 0.2 variational (recurrent) dropout \n",
    "model.add(Bidirectional(GRU(GRU_SIZE, return_sequences=False, recurrent_dropout = 0.2)))\n",
    "# add a hidden MLP layer\n",
    "model.add(Dropout(0.2))\n",
    "model.add(Dense( DENSE, activation='relu' ))\n",
    "# add the output MLP layer\n",
    "model.add(Dense(1, activation='sigmoid'))\n",
    "\n",
    "print(model.summary())\n",
    "\n",
    "model.compile(loss='binary_crossentropy',\n",
    "                  optimizer=Adam(lr=0.001),\n",
    "                  metrics=[precision, recall, f1, accuracy])\n",
    "\n",
    "checkpoint = ModelCheckpoint('keras_BiGRU_model', monitor='val_f1', verbose=1, save_best_only=True, mode='max')\n",
    "\n",
    "history = model.fit(train_data, y_train,\n",
    "              batch_size = 32,\n",
    "              epochs = 4,\n",
    "              verbose = 0,\n",
    "              callbacks=[checkpoint,TQDMNotebookCallback()],\n",
    "              validation_data=(dev_data, y_dev),\n",
    "              shuffle=True)"
   ]
  },
  {
   "cell_type": "markdown",
   "metadata": {},
   "source": [
    "#### Vizualize BiGRU model's training history"
   ]
  },
  {
   "cell_type": "code",
   "execution_count": 20,
   "metadata": {},
   "outputs": [
    {
     "data": {
      "image/png": "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\n",
      "text/plain": [
       "<Figure size 432x288 with 1 Axes>"
      ]
     },
     "metadata": {},
     "output_type": "display_data"
    },
    {
     "data": {
      "image/png": "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\n",
      "text/plain": [
       "<Figure size 432x288 with 1 Axes>"
      ]
     },
     "metadata": {},
     "output_type": "display_data"
    }
   ],
   "source": [
    "# summarize history for f1 bigru\n",
    "plt.plot(history.history['f1'])\n",
    "plt.plot(history.history['val_f1'])\n",
    "plt.title('Model f1')\n",
    "plt.ylabel('f1-score')\n",
    "plt.xlabel('epoch')\n",
    "plt.legend(['train bigru', 'dev bigru'], loc='upper left')\n",
    "plt.show()\n",
    "\n",
    "# summarize history for loss bigru\n",
    "plt.plot(history.history['loss'])\n",
    "plt.plot(history.history['val_loss'])\n",
    "plt.title('Model loss')\n",
    "plt.ylabel('loss')\n",
    "plt.xlabel('epoch')\n",
    "plt.legend(['train bigru', 'dev bigru'], loc='upper right')\n",
    "plt.show()"
   ]
  },
  {
   "cell_type": "markdown",
   "metadata": {},
   "source": [
    "#### Evaluate performance of BiGRU model on unseen Test Data"
   ]
  },
  {
   "cell_type": "code",
   "execution_count": 21,
   "metadata": {},
   "outputs": [
    {
     "name": "stdout",
     "output_type": "stream",
     "text": [
      "\n",
      "Test Binary_cross_entropy: 0.4311\n",
      "\n",
      "Test precision: 0.8115\n",
      "\n",
      "Test recall: 0.7806\n",
      "\n",
      "Test f1: 0.7902\n",
      "\n",
      "Test accuracy: 0.8011\n"
     ]
    }
   ],
   "source": [
    "'''\n",
    "#load weights from the pre-trained model\n",
    "model.load_weights(\"keras_BiGRU_model\")\n",
    "model.compile(loss='binary_crossentropy',\n",
    "                  optimizer=Adam(lr=0.001),\n",
    "                  metrics=[precision, recall, f1, accuracy])\n",
    "'''\n",
    "\n",
    "score = model.evaluate(\n",
    "    test_data,\n",
    "    y_test,\n",
    "    batch_size=32,\n",
    "    verbose=0)\n",
    "\n",
    "print('\\nTest Binary_cross_entropy: %.4f' %  (score[0]))\n",
    "print('\\nTest precision: %.4f' %  (score[1]))\n",
    "print('\\nTest recall: %.4f' %  (score[2]))\n",
    "print('\\nTest f1: %.4f' % (score[3]))\n",
    "print('\\nTest accuracy: %.4f'% (score[4]))"
   ]
  },
  {
   "cell_type": "code",
   "execution_count": 22,
   "metadata": {},
   "outputs": [
    {
     "data": {
      "text/html": [
       "<div>\n",
       "<style scoped>\n",
       "    .dataframe tbody tr th:only-of-type {\n",
       "        vertical-align: middle;\n",
       "    }\n",
       "\n",
       "    .dataframe tbody tr th {\n",
       "        vertical-align: top;\n",
       "    }\n",
       "\n",
       "    .dataframe thead th {\n",
       "        text-align: right;\n",
       "    }\n",
       "</style>\n",
       "<table border=\"1\" class=\"dataframe\">\n",
       "  <thead>\n",
       "    <tr style=\"text-align: right;\">\n",
       "      <th>Predicted</th>\n",
       "      <th>0.0</th>\n",
       "      <th>1.0</th>\n",
       "    </tr>\n",
       "    <tr>\n",
       "      <th>True</th>\n",
       "      <th></th>\n",
       "      <th></th>\n",
       "    </tr>\n",
       "  </thead>\n",
       "  <tbody>\n",
       "    <tr>\n",
       "      <th>0</th>\n",
       "      <td>13194</td>\n",
       "      <td>2881</td>\n",
       "    </tr>\n",
       "    <tr>\n",
       "      <th>1</th>\n",
       "      <td>3484</td>\n",
       "      <td>12441</td>\n",
       "    </tr>\n",
       "  </tbody>\n",
       "</table>\n",
       "</div>"
      ],
      "text/plain": [
       "Predicted    0.0    1.0\n",
       "True                   \n",
       "0          13194   2881\n",
       "1           3484  12441"
      ]
     },
     "execution_count": 22,
     "metadata": {},
     "output_type": "execute_result"
    }
   ],
   "source": [
    "predictions = model.predict(test_data)\n",
    "predictions = predictions.reshape(len(predictions),)\n",
    "\n",
    "for i in range(len(predictions)):\n",
    "    if predictions[i]<0.5:\n",
    "        predictions[i]=0\n",
    "    else:\n",
    "        predictions[i]=1\n",
    "\n",
    "y_true = pd.Series(y_test, name='True')\n",
    "y_pred = pd.Series(predictions, name='Predicted')\n",
    "pd.crosstab(y_true, y_pred)"
   ]
  },
  {
   "cell_type": "markdown",
   "metadata": {},
   "source": [
    "#### Types of mistakes that BiGRU classifier makes"
   ]
  },
  {
   "cell_type": "code",
   "execution_count": 23,
   "metadata": {},
   "outputs": [
    {
     "name": "stdout",
     "output_type": "stream",
     "text": [
      "Preprocessed Tweet: lol awe g2g now byeee paulabdulfan thx buh bye\n",
      "Predicted probability: 1.0\n",
      "------------------------------------------------\n",
      "Preprocessed Tweet: m thinking about showing them who bos by leaving when can afford it m going to buy mymanicure com\n",
      "Predicted probability: 0.0\n",
      "------------------------------------------------\n",
      "Preprocessed Tweet: yeah think it ll be fine towards the end of the day felt wayyy more comfortable with it it went by slow though\n",
      "Predicted probability: 1.0\n",
      "------------------------------------------------\n",
      "Preprocessed Tweet: aww thanks understand about the patience sometimes have to walk away awhile\n",
      "Predicted probability: 0.0\n",
      "------------------------------------------------\n",
      "Preprocessed Tweet: oh esme sleep help most thing everything better in the morning\n",
      "Predicted probability: 1.0\n",
      "------------------------------------------------\n",
      "Preprocessed Tweet: it mean don leave me\n",
      "Predicted probability: 0.0\n",
      "------------------------------------------------\n"
     ]
    }
   ],
   "source": [
    "for i in range(40):\n",
    "    if y_true[i]!= y_pred[i]:\n",
    "        print(\"Preprocessed Tweet:\",X_test[i] )\n",
    "        print(\"Predicted probability:\",predictions[i])\n",
    "        print(\"------------------------------------------------\")"
   ]
  },
  {
   "cell_type": "markdown",
   "metadata": {},
   "source": [
    "### Custom keras layer for linear and deep self-attention over RNNs output states"
   ]
  },
  {
   "cell_type": "code",
   "execution_count": 24,
   "metadata": {},
   "outputs": [],
   "source": [
    "from keras import initializers, regularizers, constraints\n",
    "from keras.layers.core import Layer\n",
    "\n",
    "def dot_product(x, kernel):\n",
    "    \"\"\"\n",
    "    Wrapper for dot product operation, in order to be compatible with both\n",
    "    Theano and Tensorflow\n",
    "    Args:\n",
    "        x (): input\n",
    "        kernel (): weights\n",
    "    Returns:\n",
    "    \"\"\"\n",
    "    if K.backend() == 'tensorflow':\n",
    "        return K.squeeze(K.dot(x, K.expand_dims(kernel)), axis=-1)\n",
    "    else:\n",
    "        return K.dot(x, kernel)\n",
    "\n",
    "class LinearAttention(Layer):\n",
    "    def __init__(self,\n",
    "                 kernel_regularizer=None, bias_regularizer=None,\n",
    "                 W_constraint=None, b_constraint=None,\n",
    "                 bias=True,\n",
    "                 return_attention=False,\n",
    "                 **kwargs):\n",
    "        \n",
    "        self.supports_masking = True\n",
    "        self.init = initializers.get('glorot_uniform')\n",
    "\n",
    "        self.W_regularizer = regularizers.get(kernel_regularizer)\n",
    "        self.b_regularizer = regularizers.get(bias_regularizer)\n",
    "\n",
    "        self.W_constraint = constraints.get(W_constraint)\n",
    "        self.b_constraint = constraints.get(b_constraint)\n",
    "\n",
    "        self.bias = bias\n",
    "        self.return_attention = return_attention\n",
    "        super(LinearAttention, self).__init__(**kwargs)\n",
    "\n",
    "    def build(self, input_shape):\n",
    "        assert len(input_shape) == 3\n",
    "\n",
    "        self.W = self.add_weight((input_shape[-1],),\n",
    "                                 initializer=self.init,\n",
    "                                 name='{}_W'.format(self.name),\n",
    "                                 regularizer=self.W_regularizer,\n",
    "                                 constraint=self.W_constraint)\n",
    "        if self.bias:\n",
    "            self.b = self.add_weight((1,),\n",
    "                                     initializer='zero',\n",
    "                                     name='{}_b'.format(self.name),\n",
    "                                     regularizer=self.b_regularizer,\n",
    "                                     constraint=self.b_constraint)\n",
    "        else:\n",
    "            self.b = None\n",
    "\n",
    "        self.built = True\n",
    "\n",
    "    def compute_mask(self, inputs, mask=None):\n",
    "        # do not pass the mask to the next layers\n",
    "        if self.return_attention:\n",
    "            return [None, None]\n",
    "        return None\n",
    "\n",
    "    def call(self, x, mask=None):\n",
    "        \n",
    "        # eij = Wx + b\n",
    "        eij = dot_product(x, self.W)\n",
    "\n",
    "        if self.bias:\n",
    "            eij += self.b\n",
    "\n",
    "        # Apply mask\n",
    "        if mask is not None:\n",
    "            eij *= K.cast(mask, K.floatx())\n",
    "\n",
    "        # a = softmax(eij)\n",
    "        a = K.expand_dims(K.softmax(eij, axis=-1))\n",
    "        weighted_input = x * a\n",
    "        result = K.sum(weighted_input, axis=1)\n",
    "\n",
    "        if self.return_attention:\n",
    "            return [result, a]\n",
    "        return result\n",
    "\n",
    "    def compute_output_shape(self, input_shape):\n",
    "        if self.return_attention:\n",
    "            return [(input_shape[0], input_shape[-1]),\n",
    "                    (input_shape[0], input_shape[1])]\n",
    "        else:\n",
    "            return input_shape[0], input_shape[-1]\n",
    "\n",
    "class DeepAttention(Layer):\n",
    "    def __init__(self,\n",
    "                 kernel_regularizer=None, u_regularizer=None, bias_regularizer=None,\n",
    "                 W_constraint=None, u_constraint=None, b_constraint=None,\n",
    "                 bias=True,\n",
    "                 return_attention=False,\n",
    "                 **kwargs):\n",
    "\n",
    "        self.supports_masking = True\n",
    "        self.init = initializers.get('glorot_uniform')\n",
    "\n",
    "        self.W_regularizer = regularizers.get(kernel_regularizer)\n",
    "        self.u_regularizer = regularizers.get(u_regularizer)\n",
    "        self.b1_regularizer = regularizers.get(bias_regularizer)\n",
    "        self.b2_regularizer = regularizers.get(bias_regularizer)\n",
    "\n",
    "        self.W_constraint = constraints.get(W_constraint)\n",
    "        self.u_constraint = constraints.get(u_constraint)\n",
    "        self.b1_constraint = constraints.get(b_constraint)\n",
    "        self.b2_constraint = constraints.get(b_constraint)\n",
    "\n",
    "        self.bias = bias\n",
    "        self.return_attention = return_attention\n",
    "        super(DeepAttention, self).__init__(**kwargs)\n",
    "\n",
    "    def build(self, input_shape):\n",
    "        assert len(input_shape) == 3\n",
    "\n",
    "        self.W = self.add_weight((input_shape[-1], input_shape[-1],),\n",
    "                                 initializer=self.init,\n",
    "                                 name='{}_W'.format(self.name),\n",
    "                                 regularizer=self.W_regularizer,\n",
    "                                 constraint=self.W_constraint)\n",
    "        if self.bias:\n",
    "            self.b1 = self.add_weight((input_shape[-1],),\n",
    "                                     initializer='zero',\n",
    "                                     name='{}_b1'.format(self.name),\n",
    "                                     regularizer=self.b1_regularizer,\n",
    "                                     constraint=self.b1_constraint)\n",
    "            self.b2 = self.add_weight((1,),\n",
    "                                     initializer='zero',\n",
    "                                     name='{}_b2'.format(self.name),\n",
    "                                     regularizer=self.b2_regularizer,\n",
    "                                     constraint=self.b2_constraint)\n",
    "        else:\n",
    "            self.b1 = None\n",
    "            self.b2 = None\n",
    "\n",
    "        self.u = self.add_weight((input_shape[-1],),\n",
    "                                 initializer=self.init,\n",
    "                                 name='{}_u'.format(self.name),\n",
    "                                 regularizer=self.u_regularizer,\n",
    "                                 constraint=self.u_constraint)\n",
    "\n",
    "        self.built = True\n",
    "\n",
    "    def compute_mask(self, inputs, mask=None):\n",
    "        # do not pass the mask to the next layers\n",
    "        if self.return_attention:\n",
    "            return [None, None]\n",
    "        return None\n",
    "\n",
    "    def call(self, x, mask=None):\n",
    "        # uit = tanh(Wx + b)\n",
    "        uit = dot_product(x, self.W)\n",
    "\n",
    "        if self.bias:\n",
    "            uit += self.b1\n",
    "\n",
    "        uit = K.tanh(uit)\n",
    "\n",
    "        # ait = softmax(Ueij)\n",
    "        eij = dot_product(uit, self.u)\n",
    "        if self.bias:\n",
    "            eij += self.b2\n",
    "\n",
    "        # Apply mask\n",
    "        if mask is not None:\n",
    "            eij *= K.cast(mask, K.floatx())\n",
    "\n",
    "        a = K.expand_dims(K.softmax(eij, axis=-1))\n",
    "        \n",
    "        weighted_input = x * a\n",
    "        result = K.sum(weighted_input, axis=1)\n",
    "\n",
    "        if self.return_attention:\n",
    "            return [result, a]\n",
    "        return result\n",
    "\n",
    "    def compute_output_shape(self, input_shape):\n",
    "        if self.return_attention:\n",
    "            return [(input_shape[0], input_shape[-1]),\n",
    "                    (input_shape[0], input_shape[1])]\n",
    "        else:\n",
    "            return input_shape[0], input_shape[-1]"
   ]
  },
  {
   "cell_type": "markdown",
   "metadata": {},
   "source": [
    "## Create and train a Bi-LSTM + deep self-attention + MLP model"
   ]
  },
  {
   "cell_type": "code",
   "execution_count": 25,
   "metadata": {
    "scrolled": true
   },
   "outputs": [
    {
     "name": "stdout",
     "output_type": "stream",
     "text": [
      "_________________________________________________________________\n",
      "Layer (type)                 Output Shape              Param #   \n",
      "=================================================================\n",
      "input_1 (InputLayer)         (None, 200)               0         \n",
      "_________________________________________________________________\n",
      "embedding_2 (Embedding)      (None, 200, 300)          6000600   \n",
      "_________________________________________________________________\n",
      "dropout_3 (Dropout)          (None, 200, 300)          0         \n",
      "_________________________________________________________________\n",
      "bidirectional_2 (Bidirection (None, 200, 200)          320800    \n",
      "_________________________________________________________________\n",
      "deep_attention_1 (DeepAttent [(None, 200), (None, 200) 40401     \n",
      "_________________________________________________________________\n",
      "dense_3 (Dense)              (None, 200)               40200     \n",
      "_________________________________________________________________\n",
      "dense_4 (Dense)              (None, 1)                 201       \n",
      "=================================================================\n",
      "Total params: 6,402,202\n",
      "Trainable params: 401,602\n",
      "Non-trainable params: 6,000,600\n",
      "_________________________________________________________________\n",
      "None\n"
     ]
    },
    {
     "data": {
      "application/vnd.jupyter.widget-view+json": {
       "model_id": "3e8cc9b8b125417a9d6c5c78deebce80",
       "version_major": 2,
       "version_minor": 0
      },
      "text/plain": [
       "HBox(children=(IntProgress(value=0, description='Training', max=4, style=ProgressStyle(description_width='init…"
      ]
     },
     "metadata": {},
     "output_type": "display_data"
    },
    {
     "data": {
      "application/vnd.jupyter.widget-view+json": {
       "model_id": "",
       "version_major": 2,
       "version_minor": 0
      },
      "text/plain": [
       "HBox(children=(IntProgress(value=0, description='Epoch 0', max=112000, style=ProgressStyle(description_width='…"
      ]
     },
     "metadata": {},
     "output_type": "display_data"
    },
    {
     "name": "stdout",
     "output_type": "stream",
     "text": [
      "\n",
      "Epoch 00001: val_f1 improved from -inf to 0.78260, saving model to keras_BiLSTM+attn_model\n"
     ]
    },
    {
     "data": {
      "application/vnd.jupyter.widget-view+json": {
       "model_id": "",
       "version_major": 2,
       "version_minor": 0
      },
      "text/plain": [
       "HBox(children=(IntProgress(value=0, description='Epoch 1', max=112000, style=ProgressStyle(description_width='…"
      ]
     },
     "metadata": {},
     "output_type": "display_data"
    },
    {
     "name": "stdout",
     "output_type": "stream",
     "text": [
      "\n",
      "Epoch 00002: val_f1 improved from 0.78260 to 0.79191, saving model to keras_BiLSTM+attn_model\n"
     ]
    },
    {
     "data": {
      "application/vnd.jupyter.widget-view+json": {
       "model_id": "",
       "version_major": 2,
       "version_minor": 0
      },
      "text/plain": [
       "HBox(children=(IntProgress(value=0, description='Epoch 2', max=112000, style=ProgressStyle(description_width='…"
      ]
     },
     "metadata": {},
     "output_type": "display_data"
    },
    {
     "name": "stdout",
     "output_type": "stream",
     "text": [
      "\n",
      "Epoch 00003: val_f1 did not improve from 0.79191\n"
     ]
    },
    {
     "data": {
      "application/vnd.jupyter.widget-view+json": {
       "model_id": "",
       "version_major": 2,
       "version_minor": 0
      },
      "text/plain": [
       "HBox(children=(IntProgress(value=0, description='Epoch 3', max=112000, style=ProgressStyle(description_width='…"
      ]
     },
     "metadata": {},
     "output_type": "display_data"
    },
    {
     "name": "stdout",
     "output_type": "stream",
     "text": [
      "\n",
      "Epoch 00004: val_f1 improved from 0.79191 to 0.80118, saving model to keras_BiLSTM+attn_model\n",
      "\n"
     ]
    }
   ],
   "source": [
    "from keras.models import Model\n",
    "from keras.layers import Input\n",
    "from keras.layers.recurrent import LSTM\n",
    "\n",
    "LSTM_SIZE = 100\n",
    "DENSE = 200\n",
    "\n",
    "inputs = Input((MAX_SEQUENCE_LENGTH,))\n",
    "embeddings = Embedding(MAX_WORDS+2,EMBEDDING_DIM, weights=[embedding_matrix], \n",
    "                    input_length=MAX_SEQUENCE_LENGTH, mask_zero=True, trainable=False)(inputs)\n",
    "drop_emb = Dropout(0.2)(embeddings)\n",
    "bilstm = Bidirectional(LSTM(units=LSTM_SIZE, return_sequences=True,recurrent_dropout = 0.2))(drop_emb)\n",
    "\n",
    "x, attn = DeepAttention(return_attention=True)(bilstm)\n",
    "out = Dense(units=DENSE, activation=\"relu\")(x)\n",
    "out = Dense(units=1, activation=\"sigmoid\")(out)\n",
    "model = Model(inputs, out)\n",
    "\n",
    "print(model.summary())\n",
    "model.compile(loss='binary_crossentropy',\n",
    "                  optimizer=Adam(lr=0.001),\n",
    "                  metrics=[precision, recall, f1, accuracy])\n",
    "\n",
    "checkpoint = ModelCheckpoint('keras_BiLSTM+attn_model', monitor='val_f1', verbose=1, save_best_only=True, mode='max')\n",
    "\n",
    "history = model.fit(train_data, y_train,\n",
    "              batch_size=32,\n",
    "              epochs=4,\n",
    "              verbose = 0,\n",
    "              callbacks=[checkpoint,TQDMNotebookCallback()],\n",
    "              validation_data=(dev_data, y_dev),\n",
    "              shuffle=True)"
   ]
  },
  {
   "cell_type": "markdown",
   "metadata": {},
   "source": [
    "#### Vizualize Bi-LSTM model's training history"
   ]
  },
  {
   "cell_type": "code",
   "execution_count": 26,
   "metadata": {},
   "outputs": [
    {
     "data": {
      "image/png": "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\n",
      "text/plain": [
       "<Figure size 432x288 with 1 Axes>"
      ]
     },
     "metadata": {},
     "output_type": "display_data"
    },
    {
     "data": {
      "image/png": "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\n",
      "text/plain": [
       "<Figure size 432x288 with 1 Axes>"
      ]
     },
     "metadata": {},
     "output_type": "display_data"
    }
   ],
   "source": [
    "# summarize history for f1 biLSTM+Att\n",
    "plt.plot(history.history['f1'])\n",
    "plt.plot(history.history['val_f1'])\n",
    "plt.title('Model f1')\n",
    "plt.ylabel('f1-score')\n",
    "plt.xlabel('epoch')\n",
    "plt.legend(['train biLSTM+Att', 'dev biLSTM+Att'], loc='upper left')\n",
    "plt.show()\n",
    "\n",
    "# summarize history for loss biLSTM+Att\n",
    "plt.plot(history.history['loss'])\n",
    "plt.plot(history.history['val_loss'])\n",
    "plt.title('Model loss')\n",
    "plt.ylabel('loss')\n",
    "plt.xlabel('epoch')\n",
    "plt.legend(['train biLSTM+Att', 'dev biLSTM+Att'], loc='upper right')\n",
    "plt.show()"
   ]
  },
  {
   "cell_type": "markdown",
   "metadata": {},
   "source": [
    "#### Evaluate performance of Bi-LSTM model on unseen Test Data"
   ]
  },
  {
   "cell_type": "code",
   "execution_count": 27,
   "metadata": {},
   "outputs": [
    {
     "name": "stdout",
     "output_type": "stream",
     "text": [
      "\n",
      "Test Binary_cross_entropy: 0.4301\n",
      "\n",
      "Test precision: 0.8167\n",
      "\n",
      "Test recall: 0.7848\n",
      "\n",
      "Test f1: 0.7953\n",
      "\n",
      "Test accuracy: 0.8055\n"
     ]
    }
   ],
   "source": [
    "'''\n",
    "#load weights from the pre-trained model\n",
    "model.load_weights(\"keras_BiLSTM+attn_model\")\n",
    "\n",
    "model.compile(loss='binary_crossentropy',\n",
    "                  optimizer=Adam(lr=0.001),\n",
    "                  metrics=[precision, recall, f1, accuracy])\n",
    "'''\n",
    "\n",
    "score = model.evaluate(\n",
    "    test_data,\n",
    "    y_test,          \n",
    "    batch_size=32,\n",
    "    verbose=0)\n",
    "\n",
    "print('\\nTest Binary_cross_entropy: %.4f' %  (score[0]))\n",
    "print('\\nTest precision: %.4f' %  (score[1]))\n",
    "print('\\nTest recall: %.4f' %  (score[2]))\n",
    "print('\\nTest f1: %.4f' % (score[3]))\n",
    "print('\\nTest accuracy: %.4f'% (score[4]))"
   ]
  },
  {
   "cell_type": "code",
   "execution_count": 28,
   "metadata": {},
   "outputs": [
    {
     "data": {
      "text/html": [
       "<div>\n",
       "<style scoped>\n",
       "    .dataframe tbody tr th:only-of-type {\n",
       "        vertical-align: middle;\n",
       "    }\n",
       "\n",
       "    .dataframe tbody tr th {\n",
       "        vertical-align: top;\n",
       "    }\n",
       "\n",
       "    .dataframe thead th {\n",
       "        text-align: right;\n",
       "    }\n",
       "</style>\n",
       "<table border=\"1\" class=\"dataframe\">\n",
       "  <thead>\n",
       "    <tr style=\"text-align: right;\">\n",
       "      <th>Predicted</th>\n",
       "      <th>0.0</th>\n",
       "      <th>1.0</th>\n",
       "    </tr>\n",
       "    <tr>\n",
       "      <th>True</th>\n",
       "      <th></th>\n",
       "      <th></th>\n",
       "    </tr>\n",
       "  </thead>\n",
       "  <tbody>\n",
       "    <tr>\n",
       "      <th>0</th>\n",
       "      <td>13271</td>\n",
       "      <td>2804</td>\n",
       "    </tr>\n",
       "    <tr>\n",
       "      <th>1</th>\n",
       "      <td>3421</td>\n",
       "      <td>12504</td>\n",
       "    </tr>\n",
       "  </tbody>\n",
       "</table>\n",
       "</div>"
      ],
      "text/plain": [
       "Predicted    0.0    1.0\n",
       "True                   \n",
       "0          13271   2804\n",
       "1           3421  12504"
      ]
     },
     "execution_count": 28,
     "metadata": {},
     "output_type": "execute_result"
    }
   ],
   "source": [
    "predictions = model.predict(test_data)\n",
    "predictions = predictions.reshape(len(predictions),)\n",
    "\n",
    "for i in range(len(predictions)):\n",
    "    if predictions[i]<0.5:\n",
    "        predictions[i]=0\n",
    "    else:\n",
    "        predictions[i]=1\n",
    "\n",
    "y_true = pd.Series(y_test, name='True')\n",
    "y_pred = pd.Series(predictions, name='Predicted')\n",
    "pd.crosstab(y_true, y_pred)"
   ]
  },
  {
   "cell_type": "markdown",
   "metadata": {},
   "source": [
    "#### Types of mistakes that Bi-LSTM classifier makes"
   ]
  },
  {
   "cell_type": "code",
   "execution_count": 29,
   "metadata": {},
   "outputs": [
    {
     "name": "stdout",
     "output_type": "stream",
     "text": [
      "Preprocessed Tweet: what gym can just sign up for 3 month membership and m much to lazy self conscious to run outside\n",
      "Predicted probability: 1.0\n",
      "------------------------------------------------\n",
      "Preprocessed Tweet: lol awe g2g now byeee paulabdulfan thx buh bye\n",
      "Predicted probability: 1.0\n",
      "------------------------------------------------\n",
      "Preprocessed Tweet: m thinking about showing them who bos by leaving when can afford it m going to buy mymanicure com\n",
      "Predicted probability: 0.0\n",
      "------------------------------------------------\n",
      "Preprocessed Tweet: oh esme sleep help most thing everything better in the morning\n",
      "Predicted probability: 1.0\n",
      "------------------------------------------------\n",
      "Preprocessed Tweet: it mean don leave me\n",
      "Predicted probability: 0.0\n",
      "------------------------------------------------\n"
     ]
    }
   ],
   "source": [
    "for i in range(40):\n",
    "    if y_true[i]!= y_pred[i]:\n",
    "        print(\"Preprocessed Tweet:\",X_test[i] )\n",
    "        print(\"Predicted probability:\",predictions[i])\n",
    "        print(\"------------------------------------------------\")"
   ]
  },
  {
   "cell_type": "markdown",
   "metadata": {},
   "source": [
    "## Hyperparameter fine-tuning\n",
    "\n",
    "* We fine-tune the Bi-LSTM + deep self-attention + MLP model, which has the higher score on the Test Set compared to the BiGRU + MLP model.\n",
    "* We fine-tune only a fews parameters due to lack of computational resources. Those parameters are:\n",
    "    * LSTM size = [50, 100]\n",
    "    * dropout = [0.2, 0.3]\n",
    "    * epochs = 4"
   ]
  },
  {
   "cell_type": "code",
   "execution_count": 30,
   "metadata": {
    "scrolled": true
   },
   "outputs": [
    {
     "name": "stdout",
     "output_type": "stream",
     "text": [
      "_________________________________________________________________\n",
      "Layer (type)                 Output Shape              Param #   \n",
      "=================================================================\n",
      "input_2 (InputLayer)         (None, 200)               0         \n",
      "_________________________________________________________________\n",
      "embedding_3 (Embedding)      (None, 200, 300)          6000600   \n",
      "_________________________________________________________________\n",
      "dropout_4 (Dropout)          (None, 200, 300)          0         \n",
      "_________________________________________________________________\n",
      "bidirectional_3 (Bidirection (None, 200, 100)          140400    \n",
      "_________________________________________________________________\n",
      "deep_attention_2 (DeepAttent [(None, 100), (None, 200) 10201     \n",
      "_________________________________________________________________\n",
      "dense_5 (Dense)              (None, 100)               10100     \n",
      "_________________________________________________________________\n",
      "dense_6 (Dense)              (None, 1)                 101       \n",
      "=================================================================\n",
      "Total params: 6,161,402\n",
      "Trainable params: 160,802\n",
      "Non-trainable params: 6,000,600\n",
      "_________________________________________________________________\n",
      "None\n"
     ]
    },
    {
     "data": {
      "application/vnd.jupyter.widget-view+json": {
       "model_id": "9f74b29fa16842288ab715d45e207d3d",
       "version_major": 2,
       "version_minor": 0
      },
      "text/plain": [
       "HBox(children=(IntProgress(value=0, description='Training', max=4, style=ProgressStyle(description_width='init…"
      ]
     },
     "metadata": {},
     "output_type": "display_data"
    },
    {
     "data": {
      "application/vnd.jupyter.widget-view+json": {
       "model_id": "",
       "version_major": 2,
       "version_minor": 0
      },
      "text/plain": [
       "HBox(children=(IntProgress(value=0, description='Epoch 0', max=112000, style=ProgressStyle(description_width='…"
      ]
     },
     "metadata": {},
     "output_type": "display_data"
    },
    {
     "name": "stdout",
     "output_type": "stream",
     "text": [
      "\n",
      "Epoch 00001: val_f1 did not improve from 0.80118\n"
     ]
    },
    {
     "data": {
      "application/vnd.jupyter.widget-view+json": {
       "model_id": "",
       "version_major": 2,
       "version_minor": 0
      },
      "text/plain": [
       "HBox(children=(IntProgress(value=0, description='Epoch 1', max=112000, style=ProgressStyle(description_width='…"
      ]
     },
     "metadata": {},
     "output_type": "display_data"
    },
    {
     "name": "stdout",
     "output_type": "stream",
     "text": [
      "\n",
      "Epoch 00002: val_f1 did not improve from 0.80118\n"
     ]
    },
    {
     "data": {
      "application/vnd.jupyter.widget-view+json": {
       "model_id": "",
       "version_major": 2,
       "version_minor": 0
      },
      "text/plain": [
       "HBox(children=(IntProgress(value=0, description='Epoch 2', max=112000, style=ProgressStyle(description_width='…"
      ]
     },
     "metadata": {},
     "output_type": "display_data"
    },
    {
     "name": "stdout",
     "output_type": "stream",
     "text": [
      "\n",
      "Epoch 00003: val_f1 did not improve from 0.80118\n"
     ]
    },
    {
     "data": {
      "application/vnd.jupyter.widget-view+json": {
       "model_id": "",
       "version_major": 2,
       "version_minor": 0
      },
      "text/plain": [
       "HBox(children=(IntProgress(value=0, description='Epoch 3', max=112000, style=ProgressStyle(description_width='…"
      ]
     },
     "metadata": {},
     "output_type": "display_data"
    },
    {
     "name": "stdout",
     "output_type": "stream",
     "text": [
      "\n",
      "Epoch 00004: val_f1 did not improve from 0.80118\n",
      "\n",
      "_________________________________________________________________\n",
      "Layer (type)                 Output Shape              Param #   \n",
      "=================================================================\n",
      "input_3 (InputLayer)         (None, 200)               0         \n",
      "_________________________________________________________________\n",
      "embedding_4 (Embedding)      (None, 200, 300)          6000600   \n",
      "_________________________________________________________________\n",
      "dropout_5 (Dropout)          (None, 200, 300)          0         \n",
      "_________________________________________________________________\n",
      "bidirectional_4 (Bidirection (None, 200, 100)          140400    \n",
      "_________________________________________________________________\n",
      "deep_attention_3 (DeepAttent [(None, 100), (None, 200) 10201     \n",
      "_________________________________________________________________\n",
      "dense_7 (Dense)              (None, 100)               10100     \n",
      "_________________________________________________________________\n",
      "dense_8 (Dense)              (None, 1)                 101       \n",
      "=================================================================\n",
      "Total params: 6,161,402\n",
      "Trainable params: 160,802\n",
      "Non-trainable params: 6,000,600\n",
      "_________________________________________________________________\n",
      "None\n"
     ]
    },
    {
     "data": {
      "application/vnd.jupyter.widget-view+json": {
       "model_id": "89136db2a4a3415693c6790bb69a974e",
       "version_major": 2,
       "version_minor": 0
      },
      "text/plain": [
       "HBox(children=(IntProgress(value=0, description='Training', max=4, style=ProgressStyle(description_width='init…"
      ]
     },
     "metadata": {},
     "output_type": "display_data"
    },
    {
     "data": {
      "application/vnd.jupyter.widget-view+json": {
       "model_id": "",
       "version_major": 2,
       "version_minor": 0
      },
      "text/plain": [
       "HBox(children=(IntProgress(value=0, description='Epoch 0', max=112000, style=ProgressStyle(description_width='…"
      ]
     },
     "metadata": {},
     "output_type": "display_data"
    },
    {
     "name": "stdout",
     "output_type": "stream",
     "text": [
      "\n",
      "Epoch 00001: val_f1 did not improve from 0.80118\n"
     ]
    },
    {
     "data": {
      "application/vnd.jupyter.widget-view+json": {
       "model_id": "",
       "version_major": 2,
       "version_minor": 0
      },
      "text/plain": [
       "HBox(children=(IntProgress(value=0, description='Epoch 1', max=112000, style=ProgressStyle(description_width='…"
      ]
     },
     "metadata": {},
     "output_type": "display_data"
    },
    {
     "name": "stdout",
     "output_type": "stream",
     "text": [
      "\n",
      "Epoch 00002: val_f1 did not improve from 0.80118\n"
     ]
    },
    {
     "data": {
      "application/vnd.jupyter.widget-view+json": {
       "model_id": "",
       "version_major": 2,
       "version_minor": 0
      },
      "text/plain": [
       "HBox(children=(IntProgress(value=0, description='Epoch 2', max=112000, style=ProgressStyle(description_width='…"
      ]
     },
     "metadata": {},
     "output_type": "display_data"
    },
    {
     "name": "stdout",
     "output_type": "stream",
     "text": [
      "\n",
      "Epoch 00003: val_f1 did not improve from 0.80118\n"
     ]
    },
    {
     "data": {
      "application/vnd.jupyter.widget-view+json": {
       "model_id": "",
       "version_major": 2,
       "version_minor": 0
      },
      "text/plain": [
       "HBox(children=(IntProgress(value=0, description='Epoch 3', max=112000, style=ProgressStyle(description_width='…"
      ]
     },
     "metadata": {},
     "output_type": "display_data"
    },
    {
     "name": "stdout",
     "output_type": "stream",
     "text": [
      "\n",
      "Epoch 00004: val_f1 did not improve from 0.80118\n",
      "\n",
      "_________________________________________________________________\n",
      "Layer (type)                 Output Shape              Param #   \n",
      "=================================================================\n",
      "input_4 (InputLayer)         (None, 200)               0         \n",
      "_________________________________________________________________\n",
      "embedding_5 (Embedding)      (None, 200, 300)          6000600   \n",
      "_________________________________________________________________\n",
      "dropout_6 (Dropout)          (None, 200, 300)          0         \n",
      "_________________________________________________________________\n",
      "bidirectional_5 (Bidirection (None, 200, 200)          320800    \n",
      "_________________________________________________________________\n",
      "deep_attention_4 (DeepAttent [(None, 200), (None, 200) 40401     \n",
      "_________________________________________________________________\n",
      "dense_9 (Dense)              (None, 200)               40200     \n",
      "_________________________________________________________________\n",
      "dense_10 (Dense)             (None, 1)                 201       \n",
      "=================================================================\n",
      "Total params: 6,402,202\n",
      "Trainable params: 401,602\n",
      "Non-trainable params: 6,000,600\n",
      "_________________________________________________________________\n",
      "None\n"
     ]
    },
    {
     "data": {
      "application/vnd.jupyter.widget-view+json": {
       "model_id": "379277cc9c324043ad4f55cd6d49a337",
       "version_major": 2,
       "version_minor": 0
      },
      "text/plain": [
       "HBox(children=(IntProgress(value=0, description='Training', max=4, style=ProgressStyle(description_width='init…"
      ]
     },
     "metadata": {},
     "output_type": "display_data"
    },
    {
     "data": {
      "application/vnd.jupyter.widget-view+json": {
       "model_id": "",
       "version_major": 2,
       "version_minor": 0
      },
      "text/plain": [
       "HBox(children=(IntProgress(value=0, description='Epoch 0', max=112000, style=ProgressStyle(description_width='…"
      ]
     },
     "metadata": {},
     "output_type": "display_data"
    },
    {
     "name": "stdout",
     "output_type": "stream",
     "text": [
      "\n",
      "Epoch 00001: val_f1 did not improve from 0.80118\n"
     ]
    },
    {
     "data": {
      "application/vnd.jupyter.widget-view+json": {
       "model_id": "",
       "version_major": 2,
       "version_minor": 0
      },
      "text/plain": [
       "HBox(children=(IntProgress(value=0, description='Epoch 1', max=112000, style=ProgressStyle(description_width='…"
      ]
     },
     "metadata": {},
     "output_type": "display_data"
    },
    {
     "name": "stdout",
     "output_type": "stream",
     "text": [
      "\n",
      "Epoch 00002: val_f1 did not improve from 0.80118\n"
     ]
    },
    {
     "data": {
      "application/vnd.jupyter.widget-view+json": {
       "model_id": "",
       "version_major": 2,
       "version_minor": 0
      },
      "text/plain": [
       "HBox(children=(IntProgress(value=0, description='Epoch 2', max=112000, style=ProgressStyle(description_width='…"
      ]
     },
     "metadata": {},
     "output_type": "display_data"
    },
    {
     "name": "stdout",
     "output_type": "stream",
     "text": [
      "\n",
      "Epoch 00003: val_f1 did not improve from 0.80118\n"
     ]
    },
    {
     "data": {
      "application/vnd.jupyter.widget-view+json": {
       "model_id": "",
       "version_major": 2,
       "version_minor": 0
      },
      "text/plain": [
       "HBox(children=(IntProgress(value=0, description='Epoch 3', max=112000, style=ProgressStyle(description_width='…"
      ]
     },
     "metadata": {},
     "output_type": "display_data"
    },
    {
     "name": "stdout",
     "output_type": "stream",
     "text": [
      "\n",
      "Epoch 00004: val_f1 improved from 0.80118 to 0.80464, saving model to keras_BiLSTM+attn_model\n",
      "\n",
      "_________________________________________________________________\n",
      "Layer (type)                 Output Shape              Param #   \n",
      "=================================================================\n",
      "input_5 (InputLayer)         (None, 200)               0         \n",
      "_________________________________________________________________\n",
      "embedding_6 (Embedding)      (None, 200, 300)          6000600   \n",
      "_________________________________________________________________\n",
      "dropout_7 (Dropout)          (None, 200, 300)          0         \n",
      "_________________________________________________________________\n",
      "bidirectional_6 (Bidirection (None, 200, 200)          320800    \n",
      "_________________________________________________________________\n",
      "deep_attention_5 (DeepAttent [(None, 200), (None, 200) 40401     \n",
      "_________________________________________________________________\n",
      "dense_11 (Dense)             (None, 200)               40200     \n",
      "_________________________________________________________________\n",
      "dense_12 (Dense)             (None, 1)                 201       \n",
      "=================================================================\n",
      "Total params: 6,402,202\n",
      "Trainable params: 401,602\n",
      "Non-trainable params: 6,000,600\n",
      "_________________________________________________________________\n",
      "None\n"
     ]
    },
    {
     "data": {
      "application/vnd.jupyter.widget-view+json": {
       "model_id": "e3cfb93607804f9f82fc0885b627e11f",
       "version_major": 2,
       "version_minor": 0
      },
      "text/plain": [
       "HBox(children=(IntProgress(value=0, description='Training', max=4, style=ProgressStyle(description_width='init…"
      ]
     },
     "metadata": {},
     "output_type": "display_data"
    },
    {
     "data": {
      "application/vnd.jupyter.widget-view+json": {
       "model_id": "",
       "version_major": 2,
       "version_minor": 0
      },
      "text/plain": [
       "HBox(children=(IntProgress(value=0, description='Epoch 0', max=112000, style=ProgressStyle(description_width='…"
      ]
     },
     "metadata": {},
     "output_type": "display_data"
    },
    {
     "name": "stdout",
     "output_type": "stream",
     "text": [
      "\n",
      "Epoch 00001: val_f1 did not improve from 0.80464\n"
     ]
    },
    {
     "data": {
      "application/vnd.jupyter.widget-view+json": {
       "model_id": "",
       "version_major": 2,
       "version_minor": 0
      },
      "text/plain": [
       "HBox(children=(IntProgress(value=0, description='Epoch 1', max=112000, style=ProgressStyle(description_width='…"
      ]
     },
     "metadata": {},
     "output_type": "display_data"
    },
    {
     "name": "stdout",
     "output_type": "stream",
     "text": [
      "\n",
      "Epoch 00002: val_f1 did not improve from 0.80464\n"
     ]
    },
    {
     "data": {
      "application/vnd.jupyter.widget-view+json": {
       "model_id": "",
       "version_major": 2,
       "version_minor": 0
      },
      "text/plain": [
       "HBox(children=(IntProgress(value=0, description='Epoch 2', max=112000, style=ProgressStyle(description_width='…"
      ]
     },
     "metadata": {},
     "output_type": "display_data"
    },
    {
     "name": "stdout",
     "output_type": "stream",
     "text": [
      "\n",
      "Epoch 00003: val_f1 did not improve from 0.80464\n"
     ]
    },
    {
     "data": {
      "application/vnd.jupyter.widget-view+json": {
       "model_id": "",
       "version_major": 2,
       "version_minor": 0
      },
      "text/plain": [
       "HBox(children=(IntProgress(value=0, description='Epoch 3', max=112000, style=ProgressStyle(description_width='…"
      ]
     },
     "metadata": {},
     "output_type": "display_data"
    },
    {
     "name": "stdout",
     "output_type": "stream",
     "text": [
      "\n",
      "Epoch 00004: val_f1 improved from 0.80464 to 0.80539, saving model to keras_BiLSTM+attn_model\n",
      "\n"
     ]
    }
   ],
   "source": [
    "sizes = [50, 100]\n",
    "dropouts = [0.2, 0.3]\n",
    "epochs = 4\n",
    "history_list = []\n",
    "\n",
    "for size in sizes:\n",
    "    for dropout in dropouts:\n",
    "        LSTM_SIZE = size\n",
    "        DENSE = 2 * size\n",
    "\n",
    "        inputs = Input((MAX_SEQUENCE_LENGTH,))\n",
    "        embeddings = Embedding(MAX_WORDS+2,EMBEDDING_DIM, weights=[embedding_matrix], \n",
    "                            input_length=MAX_SEQUENCE_LENGTH, mask_zero=True, trainable=False)(inputs)\n",
    "        drop_emb = Dropout(dropout)(embeddings)\n",
    "        bilstm = Bidirectional(LSTM(units=LSTM_SIZE, return_sequences=True, recurrent_dropout = dropout))(drop_emb)\n",
    "        x, attn = DeepAttention(return_attention=True)(bilstm)\n",
    "        out = Dense(units=DENSE, activation=\"relu\")(x)\n",
    "        out = Dense(units=1, activation=\"sigmoid\")(out)\n",
    "        model = Model(inputs, out)\n",
    "        \n",
    "        print(model.summary())\n",
    "        model.compile(loss='binary_crossentropy',\n",
    "                          optimizer=Adam(lr=0.001),\n",
    "                          metrics=[precision, recall, f1, accuracy])\n",
    "\n",
    "        history = model.fit(train_data, y_train,\n",
    "                      batch_size=32,\n",
    "                      epochs=epochs,\n",
    "                      verbose = 0,\n",
    "                      callbacks=[checkpoint,TQDMNotebookCallback()],\n",
    "                      validation_data=(dev_data, y_dev),\n",
    "                      shuffle=True)\n",
    "        \n",
    "        history_list.append([size, dropout, history.history['val_f1']])"
   ]
  },
  {
   "cell_type": "markdown",
   "metadata": {},
   "source": [
    "#### Visualize Tuning Results"
   ]
  },
  {
   "cell_type": "code",
   "execution_count": 31,
   "metadata": {},
   "outputs": [
    {
     "data": {
      "image/png": "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\n",
      "text/plain": [
       "<Figure size 432x360 with 1 Axes>"
      ]
     },
     "metadata": {},
     "output_type": "display_data"
    }
   ],
   "source": [
    "legends = []\n",
    "plt.figure(figsize=(6,5))\n",
    "for i in range(len(history_list)):\n",
    "    plt.plot(np.arange(1,epochs+1), history_list[i][2])\n",
    "    legends.append('LSTM size: ' + str(history_list[i][0]) + ', dropout: ' + str(history_list[i][1]))\n",
    "plt.title('Evaluation f1-scores for Bi-LSTM model')\n",
    "plt.ylabel('f1-score')\n",
    "plt.xlabel('epoch')\n",
    "plt.legend(legends)\n",
    "plt.show()"
   ]
  },
  {
   "cell_type": "markdown",
   "metadata": {},
   "source": [
    "* We see that the best results are obtained for a LSTM size of 100 with dropout=0.3 trained for 4 epochs. "
   ]
  },
  {
   "cell_type": "code",
   "execution_count": null,
   "metadata": {},
   "outputs": [],
   "source": []
  }
 ],
 "metadata": {
  "kernelspec": {
   "display_name": "Python 3",
   "language": "python",
   "name": "python3"
  },
  "language_info": {
   "codemirror_mode": {
    "name": "ipython",
    "version": 3
   },
   "file_extension": ".py",
   "mimetype": "text/x-python",
   "name": "python",
   "nbconvert_exporter": "python",
   "pygments_lexer": "ipython3",
   "version": "3.7.1"
  }
 },
 "nbformat": 4,
 "nbformat_minor": 2
}
